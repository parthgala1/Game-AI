{
 "cells": [
  {
   "cell_type": "code",
   "execution_count": 4,
   "metadata": {},
   "outputs": [
    {
     "name": "stderr",
     "output_type": "stream",
     "text": [
      "WARNING:absl:No training configuration found in the save file, so the model was *not* compiled. Compile it manually.\n"
     ]
    },
    {
     "name": "stdout",
     "output_type": "stream",
     "text": [
      "Generator model loaded successfully.\n",
      "Image saved at: generated_images/generated_img_1.png\n",
      "Image saved at: generated_images/generated_img_2.png\n",
      "Image saved at: generated_images/generated_img_3.png\n",
      "Image saved at: generated_images/generated_img_4.png\n",
      "Image saved at: generated_images/generated_img_5.png\n",
      "Image saved at: generated_images/generated_img_6.png\n",
      "Image saved at: generated_images/generated_img_7.png\n",
      "Image saved at: generated_images/generated_img_8.png\n",
      "Image saved at: generated_images/generated_img_9.png\n",
      "Image saved at: generated_images/generated_img_10.png\n"
     ]
    }
   ],
   "source": [
    "import tensorflow as tf\n",
    "import numpy as np\n",
    "from tensorflow.keras.preprocessing.image import save_img\n",
    "import os\n",
    "\n",
    "# Load the saved generator model\n",
    "generator = tf.keras.models.load_model('./saved_generator_model.h5')\n",
    "print(\"Generator model loaded successfully.\")\n",
    "\n",
    "# Generate new images using the loaded model\n",
    "def generate_images_from_saved_model(generator, latent_dim, num_images, output_folder):\n",
    "    noise = tf.random.normal([num_images, latent_dim])  # Random latent vectors\n",
    "    generated_images = generator(noise)\n",
    "\n",
    "    # Rescale images to [0, 1] for saving\n",
    "    generated_images = (generated_images + 1) / 2\n",
    "    os.makedirs(output_folder, exist_ok=True)  # Ensure the output folder exists\n",
    "\n",
    "    for i in range(num_images):\n",
    "        img = generated_images[i].numpy()\n",
    "        save_path = os.path.join(output_folder, f\"generated_img_{i+1}.png\")\n",
    "        save_img(save_path, img)\n",
    "        print(f\"Image saved at: {save_path}\")\n",
    "\n",
    "# Parameters for generating images\n",
    "latent_dim = 100  # Keep the same latent dimension used during training\n",
    "num_images = 10  # Number of images to generate\n",
    "output_folder = 'generated_images'  # Folder to save generated images\n",
    "\n",
    "generate_images_from_saved_model(generator, latent_dim, num_images, output_folder)\n"
   ]
  },
  {
   "cell_type": "code",
   "execution_count": null,
   "metadata": {},
   "outputs": [],
   "source": []
  }
 ],
 "metadata": {
  "kernelspec": {
   "display_name": "Python 3",
   "language": "python",
   "name": "python3"
  },
  "language_info": {
   "codemirror_mode": {
    "name": "ipython",
    "version": 3
   },
   "file_extension": ".py",
   "mimetype": "text/x-python",
   "name": "python",
   "nbconvert_exporter": "python",
   "pygments_lexer": "ipython3",
   "version": "3.9.6"
  }
 },
 "nbformat": 4,
 "nbformat_minor": 2
}
